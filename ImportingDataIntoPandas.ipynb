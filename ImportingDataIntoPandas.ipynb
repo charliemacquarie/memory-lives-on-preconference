{
 "cells": [
  {
   "cell_type": "code",
   "execution_count": null,
   "metadata": {},
   "outputs": [],
   "source": [
    "import pandas as pd"
   ]
  },
  {
   "cell_type": "code",
   "execution_count": null,
   "metadata": {},
   "outputs": [],
   "source": [
    "#Note that for this to work the NoMoreSilence_ProjectData.tsv file needs to be\n",
    "#in the same directory (folder) that this notebook file is in, and that you started\n",
    "#the jupyter notebook from.\n",
    "\n",
    "df = pd.read_csv('NoMoreSilence_ProjectData.tsv', sep='\\t')"
   ]
  },
  {
   "cell_type": "code",
   "execution_count": null,
   "metadata": {},
   "outputs": [],
   "source": [
    "#to show us the columns of the data we're working with\n",
    "\n",
    "df.columns"
   ]
  },
  {
   "cell_type": "code",
   "execution_count": null,
   "metadata": {},
   "outputs": [],
   "source": [
    "#taking a look at 'Source' column as a way to potentially pull out something to categorize by\n",
    "#collection, like the call number. This looks pretty good, let's use it. \n",
    "\n",
    "df['Source'][0:10]"
   ]
  },
  {
   "cell_type": "code",
   "execution_count": null,
   "metadata": {},
   "outputs": [],
   "source": [
    "#this is creating a variable of all the sources, which we'll use to experiment with pulling out\n",
    "#just the call number for each collection. \n",
    "\n",
    "#the for loop will iterate through each source, and use the .split method to create a new list\n",
    "#with each element (separated by commas, which we specified with .split(', ') -- note \n",
    "# comma then space) as a list item.\n",
    "\n",
    "#this threw an error, because one of the entries was a float not a string. We have to choose to \n",
    "#either make it a string or to ignore it. In this code I've made it a string with \n",
    "#source = str(source), but it may actually be better to ignore it. (with an if else statement)\n",
    "\n",
    "sources = df['Source']\n",
    "for source in sources:\n",
    "    source = str(source)\n",
    "    s_list = source.split(', ')\n",
    "    print(s_list)"
   ]
  },
  {
   "cell_type": "code",
   "execution_count": null,
   "metadata": {},
   "outputs": [],
   "source": [
    "#Filling out the above to more completely get the call number. Note that this time we are opting \n",
    "#to skip the row if it has no data for the source, this is contained in the \n",
    "#\"if type(source) == str:\"\n",
    "\n",
    "collection_list = []\n",
    "for source in sources:\n",
    "    if type(source) == str:\n",
    "        source_list = source.split(', ')\n",
    "        try:\n",
    "            if source_list[1] == '':\n",
    "                collection_list.append(source_list[2])\n",
    "            else:\n",
    "                collection_list.append(source_list[1])\n",
    "        except IndexError:\n",
    "            collection_list.append('no data')\n",
    "\n",
    "#the below makes a set from the list, to pull out all the unique values so we can see what\n",
    "#the extent of the values we're getting. \n",
    "#we can see that there are some duplicates due to trailing spaces, so we'll need to fix that. \n",
    "            \n",
    "collection_set = set(collection_list)\n",
    "print(sorted(collection_set))"
   ]
  },
  {
   "cell_type": "code",
   "execution_count": null,
   "metadata": {},
   "outputs": [],
   "source": [
    "#We're almost there, but we want the code to remove trailing spaces and to replace spaces\n",
    "#with dashes for cleaner data.The below does that.\n",
    "\n",
    "collection_list = []\n",
    "for source in sources:\n",
    "    call_no = 'blank'\n",
    "    if type(source) == str:\n",
    "        source_list = source.split(', ')\n",
    "        try:\n",
    "            if source_list[1] == '':\n",
    "                if source_list[2][-1] == ' ':\n",
    "                    call_no = source_list[2][0:-1].replace(' ', '-')\n",
    "                else:\n",
    "                    call_no = source_list[2].replace(' ', '-')\n",
    "            else:\n",
    "                if source_list[1][-1] == ' ':\n",
    "                    call_no = source_list[1][0:-1].replace(' ', '-')\n",
    "                else:\n",
    "                    call_no = source_list[1].replace(' ', '-')\n",
    "        except IndexError:\n",
    "            call_no = 'no-data'\n",
    "    collection_list.append(call_no)\n",
    "    \n",
    "collection_set = set(collection_list)\n",
    "print(sorted(collection_set))\n",
    "        "
   ]
  },
  {
   "cell_type": "code",
   "execution_count": null,
   "metadata": {},
   "outputs": [],
   "source": [
    "#Now we need to take the code above and turn it into a function that will run on the \"Source\" \n",
    "#field for every line in the dataframe. We need to define its inputs a little differently,\n",
    "#and do the function definition.\n",
    "\n",
    "def get_call_no(row):\n",
    "    call_no = 'blank'\n",
    "    if type(row['Source']) == str:\n",
    "        source_list = row['Source'].split(', ')\n",
    "        try:\n",
    "            if source_list[1] == '':\n",
    "                if source_list[2][-1] == ' ':\n",
    "                    call_no = source_list[2][0:-1].replace(' ', '-')\n",
    "                else:\n",
    "                    call_no = source_list[2].replace(' ', '-')\n",
    "            else:\n",
    "                if source_list[1][-1] == ' ':\n",
    "                    call_no = source_list[1][0:-1].replace(' ', '-')\n",
    "                else:\n",
    "                    call_no = source_list[1].replace(' ', '-')\n",
    "        except IndexError:\n",
    "            call_no = 'no-data'\n",
    "    return call_no"
   ]
  },
  {
   "cell_type": "code",
   "execution_count": null,
   "metadata": {},
   "outputs": [],
   "source": [
    "#This used the function we just defined above to go through each row in the dataframe and\n",
    "#pull out the call_no and put it into a new column called 'call_no', which we've defined \n",
    "#simply by naming it in the 'df['call_no'] = ...'\n",
    "\n",
    "df['call_no'] = df.apply(lambda row: get_call_no(row), axis=1)"
   ]
  },
  {
   "cell_type": "code",
   "execution_count": null,
   "metadata": {},
   "outputs": [],
   "source": [
    "#if we simply call the dataframe now we can see that our new column is there:\n",
    "\n",
    "df"
   ]
  },
  {
   "cell_type": "code",
   "execution_count": null,
   "metadata": {},
   "outputs": [],
   "source": [
    "#using the df.unique method, we can check the same thing we did above using set() -- \n",
    "#that there are no repeat values. \n",
    "\n",
    "call_nums = df['call_no'].unique()\n",
    "print(call_nums)"
   ]
  },
  {
   "cell_type": "code",
   "execution_count": null,
   "metadata": {},
   "outputs": [],
   "source": [
    "#and now we can sort it by collection simply by creating a variable that defines\n",
    "#all the rows that match a certain collection value, and passing this as a selection \n",
    "#of the df variable:\n",
    "\n",
    "act_up = df['call_no'] == 'MSS-98-47'\n",
    "df[act_up]"
   ]
  },
  {
   "cell_type": "code",
   "execution_count": null,
   "metadata": {},
   "outputs": [],
   "source": [
    "#or, we can simply define the selection right inside the brackets of df:\n",
    "\n",
    "df[df['call_no'] == 'MSS-98-47']"
   ]
  },
  {
   "cell_type": "code",
   "execution_count": null,
   "metadata": {},
   "outputs": [],
   "source": []
  }
 ],
 "metadata": {
  "kernelspec": {
   "display_name": "Python 3",
   "language": "python",
   "name": "python3"
  },
  "language_info": {
   "codemirror_mode": {
    "name": "ipython",
    "version": 3
   },
   "file_extension": ".py",
   "mimetype": "text/x-python",
   "name": "python",
   "nbconvert_exporter": "python",
   "pygments_lexer": "ipython3",
   "version": "3.7.3"
  }
 },
 "nbformat": 4,
 "nbformat_minor": 2
}
